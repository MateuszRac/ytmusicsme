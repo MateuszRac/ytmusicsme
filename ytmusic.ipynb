{
 "cells": [
  {
   "cell_type": "code",
   "execution_count": 7,
   "id": "neutral-flavor",
   "metadata": {},
   "outputs": [],
   "source": [
    "from ytmusicsme import YTMusic\n",
    "import pandas as pd\n",
    "import json\n",
    "import ytmusicsme.helper as h"
   ]
  },
  {
   "cell_type": "code",
   "execution_count": 8,
   "id": "5cde11b4",
   "metadata": {},
   "outputs": [
    {
     "data": {
      "text/html": [
       "<div>\n",
       "<style scoped>\n",
       "    .dataframe tbody tr th:only-of-type {\n",
       "        vertical-align: middle;\n",
       "    }\n",
       "\n",
       "    .dataframe tbody tr th {\n",
       "        vertical-align: top;\n",
       "    }\n",
       "\n",
       "    .dataframe thead th {\n",
       "        text-align: right;\n",
       "    }\n",
       "</style>\n",
       "<table border=\"1\" class=\"dataframe\">\n",
       "  <thead>\n",
       "    <tr style=\"text-align: right;\">\n",
       "      <th></th>\n",
       "      <th>videoId</th>\n",
       "      <th>title</th>\n",
       "      <th>artistId</th>\n",
       "      <th>artist</th>\n",
       "      <th>albumId</th>\n",
       "      <th>album</th>\n",
       "    </tr>\n",
       "  </thead>\n",
       "  <tbody>\n",
       "  </tbody>\n",
       "</table>\n",
       "</div>"
      ],
      "text/plain": [
       "Empty DataFrame\n",
       "Columns: [videoId, title, artistId, artist, albumId, album]\n",
       "Index: []"
      ]
     },
     "execution_count": 8,
     "metadata": {},
     "output_type": "execute_result"
    }
   ],
   "source": [
    "yt = YTMusic()\n",
    "results = yt.search('taco hemingway fiji')\n",
    "results"
   ]
  },
  {
   "cell_type": "code",
   "execution_count": null,
   "id": "378f2d81",
   "metadata": {},
   "outputs": [],
   "source": [
    "ids = ['UC8Yuo0-S4BMCXWzYajCbMug','UCVwubC7Cp7thbUUxB3ZLWKA','UChnm9qgzNbPXxzRQYU5P3Dg','UCwKinv11f26aSK5tRu53WzQ']"
   ]
  },
  {
   "cell_type": "code",
   "execution_count": null,
   "id": "30c4e69e",
   "metadata": {},
   "outputs": [],
   "source": [
    "dfs = []\n",
    "for id in ids:\n",
    "    artists_stats_id = yt.get_stats_artistid(id.strip())\n",
    "\n",
    "    yt2 = YTMusic()\n",
    "    df = yt2.get_stats(artists_stats_id)\n",
    "    dfs.append(df)\n",
    "\n",
    "dfs = pd.concat(dfs, ignore_index=True)"
   ]
  },
  {
   "cell_type": "code",
   "execution_count": null,
   "id": "mysterious-philadelphia",
   "metadata": {},
   "outputs": [],
   "source": [
    "pip install orjson"
   ]
  },
  {
   "cell_type": "code",
   "execution_count": null,
   "id": "naughty-senegal",
   "metadata": {},
   "outputs": [],
   "source": []
  }
 ],
 "metadata": {
  "kernelspec": {
   "display_name": "Python 3 (ipykernel)",
   "language": "python",
   "name": "python3"
  },
  "language_info": {
   "codemirror_mode": {
    "name": "ipython",
    "version": 3
   },
   "file_extension": ".py",
   "mimetype": "text/x-python",
   "name": "python",
   "nbconvert_exporter": "python",
   "pygments_lexer": "ipython3",
   "version": "3.9.7"
  }
 },
 "nbformat": 4,
 "nbformat_minor": 5
}
